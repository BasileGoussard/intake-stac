{
 "cells": [
  {
   "cell_type": "markdown",
   "metadata": {},
   "source": [
    "Intake-STAC + Planetscope\n",
    "================\n",
    "\n",
    "In this notebook, we'll take a look at some of the functionality in Intake-STAC by exploring *static* STAC 1.0 catalogs such as the open-access [Planet Disaster data catalog](https://planet.stac.cloud/?t=catalogs) hosted at https://raw.githubusercontent.com/cholmes/sample-stac/master/stac/catalog.json"
   ]
  },
  {
   "cell_type": "code",
   "execution_count": 2,
   "metadata": {},
   "outputs": [],
   "source": [
    "%matplotlib inline"
   ]
  },
  {
   "cell_type": "code",
   "execution_count": 3,
   "metadata": {},
   "outputs": [
    {
     "name": "stdout",
     "output_type": "stream",
     "text": [
      "0.6.0\n"
     ]
    }
   ],
   "source": [
    "# Show versions of relevant pacakges\n",
    "import intake\n",
    "print(intake.__version__)"
   ]
  },
  {
   "cell_type": "code",
   "execution_count": 4,
   "metadata": {},
   "outputs": [],
   "source": [
    "# Maybe useful for development! \n",
    "#!ls /Users/scott/.intake/cache\n",
    "#from intake.config import conf\n",
    "#conf['cache_disabled'] = True\n",
    "#!ls -lthr /Users/scott/.intake/"
   ]
  },
  {
   "cell_type": "code",
   "execution_count": 5,
   "metadata": {},
   "outputs": [
    {
     "data": {
      "text/plain": [
       "'0.4.0'"
      ]
     },
     "execution_count": 5,
     "metadata": {},
     "output_type": "execute_result"
    }
   ],
   "source": [
    "import satstac\n",
    "satstac.__version__"
   ]
  },
  {
   "cell_type": "code",
   "execution_count": 6,
   "metadata": {},
   "outputs": [
    {
     "data": {
      "text/plain": [
       "'0.2.3+6.g1a7ccac.dirty'"
      ]
     },
     "execution_count": 6,
     "metadata": {},
     "output_type": "execute_result"
    }
   ],
   "source": [
    "import intake_stac\n",
    "intake_stac.__version__"
   ]
  },
  {
   "cell_type": "code",
   "execution_count": 11,
   "metadata": {},
   "outputs": [
    {
     "data": {
      "text/plain": [
       "['yaml_file_cat',\n",
       " 'yaml_files_cat',\n",
       " 'remote-xarray',\n",
       " 'netcdf',\n",
       " 'opendap',\n",
       " 'rasterio',\n",
       " 'xarray_image',\n",
       " 'zarr',\n",
       " 'catalog',\n",
       " 'csv',\n",
       " 'intake_remote',\n",
       " 'ndzarr',\n",
       " 'numpy',\n",
       " 'textfiles',\n",
       " 'zarr_cat',\n",
       " 'stac_catalog',\n",
       " 'stac_collection',\n",
       " 'stac_item',\n",
       " 'stac_item_collection']"
      ]
     },
     "execution_count": 11,
     "metadata": {},
     "output_type": "execute_result"
    }
   ],
   "source": [
    "# intake checks for registered drivers when imported\n",
    "# You should see 'stac_catalog, stac_collection, stac_item, and stac_item_collection' if intake-stac is installed\n",
    "list(intake.registry)"
   ]
  },
  {
   "cell_type": "markdown",
   "metadata": {},
   "source": [
    "## Catalog adapter\n",
    "\n",
    "We'll start by connecting to the STAC catalog for `planet-disaster-data`. This catalog includes 5 sub-catalogs (know as Items in STAC language)"
   ]
  },
  {
   "cell_type": "code",
   "execution_count": 18,
   "metadata": {},
   "outputs": [
    {
     "name": "stdout",
     "output_type": "stream",
     "text": [
      "planet-disaster-data\n"
     ]
    },
    {
     "data": {
      "text/plain": [
       "[]"
      ]
     },
     "execution_count": 18,
     "metadata": {},
     "output_type": "execute_result"
    }
   ],
   "source": [
    "url = 'https://raw.githubusercontent.com/cholmes/sample-stac/master/stac/catalog.json'\n",
    "intake_cat = intake.open_stac_catalog(url)\n",
    "print(intake_cat.name)\n",
    "list(intake_cat)"
   ]
  },
  {
   "cell_type": "code",
   "execution_count": 19,
   "metadata": {},
   "outputs": [
    {
     "name": "stdout",
     "output_type": "stream",
     "text": [
      "Root Catalog:  planet-disaster-data\n",
      "Sub Catalog:  hurricane-harvey\n",
      "Sub Catalog parent:  planet-disaster-data\n",
      "Sub Catalog children:\n",
      "     hurricane-harvey-0831\n"
     ]
    }
   ],
   "source": [
    "# underlaying satstac0.4 Catalog\n",
    "cat = intake_cat._stac_obj\n",
    "\n",
    "# get first (and only in this case) sub-catalog\n",
    "subcat = [c for c in cat.children()][0]\n",
    "\n",
    "# print some IDs\n",
    "print(\"Root Catalog: \", cat.id)\n",
    "print(\"Sub Catalog: \", subcat.id)\n",
    "print(\"Sub Catalog parent: \", subcat.parent().id)\n",
    "\n",
    "# iterate through child catalogs of the sub-catalog\n",
    "print(\"Sub Catalog children:\")\n",
    "for child in subcat.children():\n",
    "    print('    ', child.id)"
   ]
  },
  {
   "cell_type": "markdown",
   "metadata": {},
   "source": [
    "Catalogs include the STAC metadata:"
   ]
  },
  {
   "cell_type": "code",
   "execution_count": null,
   "metadata": {},
   "outputs": [],
   "source": [
    "# Note stac_version 1.0.0-beta1\n",
    "cat.metadata['description']"
   ]
  },
  {
   "cell_type": "code",
   "execution_count": null,
   "metadata": {},
   "outputs": [],
   "source": [
    "# Check STAC version you are working with\n",
    "cat.metadata['stac_version']"
   ]
  },
  {
   "cell_type": "markdown",
   "metadata": {},
   "source": [
    "and the metadata from each Item is available:"
   ]
  },
  {
   "cell_type": "code",
   "execution_count": null,
   "metadata": {},
   "outputs": [],
   "source": [
    "cat['Houston-East-20170831-103f-100d-0f4f-RGB'].metadata"
   ]
  },
  {
   "cell_type": "markdown",
   "metadata": {},
   "source": [
    "The sub-catalogs can include an arbitrary number of assets:"
   ]
  },
  {
   "cell_type": "code",
   "execution_count": null,
   "metadata": {},
   "outputs": [],
   "source": [
    "list(cat['Houston-East-20170831-103f-100d-0f4f-RGB'])"
   ]
  }
 ],
 "metadata": {
  "kernelspec": {
   "display_name": "Python 3",
   "language": "python",
   "name": "python3"
  },
  "language_info": {
   "codemirror_mode": {
    "name": "ipython",
    "version": 3
   },
   "file_extension": ".py",
   "mimetype": "text/x-python",
   "name": "python",
   "nbconvert_exporter": "python",
   "pygments_lexer": "ipython3",
   "version": "3.7.8"
  }
 },
 "nbformat": 4,
 "nbformat_minor": 4
}
