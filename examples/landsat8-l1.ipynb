{
 "cells": [
  {
   "cell_type": "markdown",
   "metadata": {},
   "source": [
    "Intake-STAC + Landsat8\n",
    "================\n",
    "\n",
    "In this notebook, we'll take a look at some of the functionality in Intake-STAC by exploring an example STAC 1.0 catalog with a Landsat-8 L1 public data on AWS (https://registry.opendata.aws/landsat-8/)"
   ]
  },
  {
   "cell_type": "code",
   "execution_count": null,
   "metadata": {},
   "outputs": [],
   "source": [
    "# For development\n",
    "%matplotlib inline\n",
    "%load_ext autoreload\n",
    "%autoreload 2"
   ]
  },
  {
   "cell_type": "code",
   "execution_count": null,
   "metadata": {},
   "outputs": [],
   "source": [
    "# Show versions of relevant pacakges\n",
    "import intake\n",
    "print(intake.__version__)"
   ]
  },
  {
   "cell_type": "code",
   "execution_count": null,
   "metadata": {},
   "outputs": [],
   "source": [
    "import satstac\n",
    "satstac.__version__"
   ]
  },
  {
   "cell_type": "code",
   "execution_count": null,
   "metadata": {},
   "outputs": [],
   "source": [
    "# intake checks for registered drivers when imported\n",
    "# You should see 'stac_catalog, stac_collection, stac_item, and stac_item_collection' if intake-stac is installed\n",
    "list(intake.registry)"
   ]
  },
  {
   "cell_type": "markdown",
   "metadata": {},
   "source": [
    "## Load root catalog"
   ]
  },
  {
   "cell_type": "code",
   "execution_count": null,
   "metadata": {},
   "outputs": [],
   "source": [
    "# Open a catalog and list subcatalogs / collections\n",
    "url = 'https://raw.githubusercontent.com/sat-utils/sat-stac/master/test/catalog/catalog.json'\n",
    "cat = intake.open_stac_catalog(url)\n",
    "cat.metadata.keys()\n",
    "list(cat)"
   ]
  },
  {
   "cell_type": "code",
   "execution_count": null,
   "metadata": {},
   "outputs": [],
   "source": [
    "# list shows us the subcatalog, which we can load:\n",
    "# Drill down into subcatalogs\n",
    "\n",
    "# need to change this to work with multiple subcatalogs (currently only gets first)\n",
    "subcat = cat['stac-catalog-eo']\n",
    "list(subcat)"
   ]
  },
  {
   "cell_type": "code",
   "execution_count": null,
   "metadata": {},
   "outputs": [],
   "source": [
    "# Drill down into subcatalogs\n",
    "subcat1 = subcat['landsat-8-l1']\n",
    "list(subcat1)"
   ]
  },
  {
   "cell_type": "code",
   "execution_count": null,
   "metadata": {},
   "outputs": [],
   "source": [
    "subcat1.metadata"
   ]
  },
  {
   "cell_type": "code",
   "execution_count": null,
   "metadata": {},
   "outputs": [],
   "source": [
    "# NOTE: would be good to have easy way for user to distinguish between catalogs and items\n",
    "print(type(subcat1._stac_obj))\n",
    "item = subcat1['LC08_L1TP_152038_20200611_20200611_01_RT']\n",
    "print(type(item._stac_obj))"
   ]
  },
  {
   "cell_type": "code",
   "execution_count": null,
   "metadata": {},
   "outputs": [],
   "source": [
    "item.metadata"
   ]
  },
  {
   "cell_type": "code",
   "execution_count": null,
   "metadata": {},
   "outputs": [],
   "source": [
    "# Check assets\n",
    "list(item)"
   ]
  },
  {
   "cell_type": "code",
   "execution_count": null,
   "metadata": {},
   "outputs": [],
   "source": [
    "# Display thumbnail\n",
    "from IPython.display import Image\n",
    "Image(item['thumbnail'].urlpath)"
   ]
  },
  {
   "cell_type": "code",
   "execution_count": null,
   "metadata": {},
   "outputs": [],
   "source": [
    "# Load single band into xarray data array\n",
    "da = item.B4.to_dask()"
   ]
  },
  {
   "cell_type": "markdown",
   "metadata": {},
   "source": [
    "## Stacking bands"
   ]
  },
  {
   "cell_type": "code",
   "execution_count": null,
   "metadata": {},
   "outputs": [],
   "source": [
    "#TODO"
   ]
  }
 ],
 "metadata": {
  "kernelspec": {
   "display_name": "Python 3",
   "language": "python",
   "name": "python3"
  },
  "language_info": {
   "codemirror_mode": {
    "name": "ipython",
    "version": 3
   },
   "file_extension": ".py",
   "mimetype": "text/x-python",
   "name": "python",
   "nbconvert_exporter": "python",
   "pygments_lexer": "ipython3",
   "version": "3.7.8"
  }
 },
 "nbformat": 4,
 "nbformat_minor": 4
}
